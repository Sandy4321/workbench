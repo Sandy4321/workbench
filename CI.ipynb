{
 "cells": [
  {
   "cell_type": "code",
   "execution_count": 1,
   "metadata": {},
   "outputs": [],
   "source": [
    "%load_ext autoreload\n",
    "%autoreload 2\n",
    "%matplotlib inline"
   ]
  },
  {
   "cell_type": "code",
   "execution_count": 45,
   "metadata": {},
   "outputs": [
    {
     "data": {
      "text/plain": [
       "(MAE: 4.038378, 0.9642147117296223)"
      ]
     },
     "execution_count": 45,
     "metadata": {},
     "output_type": "execute_result"
    }
   ],
   "source": [
    "import math\n",
    "from creme import datasets\n",
    "from creme import linear_model\n",
    "from creme import metrics\n",
    "from creme import model_selection\n",
    "from creme import preprocessing\n",
    "from creme import stats\n",
    "from creme import stream\n",
    "from sklearn import datasets\n",
    "\n",
    "X_y = stream.iter_sklearn_dataset(\n",
    "    datasets.load_boston(),\n",
    "    shuffle=True,\n",
    "    random_state=42\n",
    ")\n",
    "\n",
    "model = (\n",
    "    preprocessing.StandardScaler() |\n",
    "    linear_model.LinearRegression(intercept_lr=.1)\n",
    ")\n",
    "\n",
    "metric = metrics.MAE()\n",
    "\n",
    "n = 0\n",
    "n_in = 0\n",
    "se = stats.RollingSum(1000)\n",
    "\n",
    "for x, y in X_y:\n",
    "    y_pred = model.predict_one(x)\n",
    "    \n",
    "    if metric.n > 2:\n",
    "        stdev = math.sqrt(1 / (metric.n - 2) * se.get())\n",
    "        interval = 1.96 * stdev\n",
    "        lower, upper = y_pred - interval, y_pred + interval\n",
    "        \n",
    "        n_in += lower < y < upper\n",
    "        n += 1\n",
    "        \n",
    "    se.update((y - y_pred) ** 2)\n",
    "    metric.update(y, y_pred)\n",
    "    model.fit_one(x, y)\n",
    "    \n",
    "metric, n_in / n"
   ]
  },
  {
   "cell_type": "code",
   "execution_count": 43,
   "metadata": {},
   "outputs": [
    {
     "data": {
      "text/plain": [
       "506.0"
      ]
     },
     "execution_count": 43,
     "metadata": {},
     "output_type": "execute_result"
    }
   ],
   "source": [
    "metric.n"
   ]
  },
  {
   "cell_type": "code",
   "execution_count": 13,
   "metadata": {},
   "outputs": [
    {
     "data": {
      "text/plain": [
       "0.07329962081200625"
      ]
     },
     "execution_count": 13,
     "metadata": {},
     "output_type": "execute_result"
    }
   ],
   "source": [
    "stdev"
   ]
  },
  {
   "cell_type": "code",
   "execution_count": null,
   "metadata": {},
   "outputs": [],
   "source": []
  }
 ],
 "metadata": {
  "kernelspec": {
   "display_name": "Python 3",
   "language": "python",
   "name": "python3"
  },
  "language_info": {
   "codemirror_mode": {
    "name": "ipython",
    "version": 3
   },
   "file_extension": ".py",
   "mimetype": "text/x-python",
   "name": "python",
   "nbconvert_exporter": "python",
   "pygments_lexer": "ipython3",
   "version": "3.7.4"
  }
 },
 "nbformat": 4,
 "nbformat_minor": 2
}
