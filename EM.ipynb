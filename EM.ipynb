{
 "cells": [
  {
   "cell_type": "markdown",
   "metadata": {},
   "source": [
    "# [Matlab code](https://www.di.ens.fr/~cappe/Code/OnlineEM/)"
   ]
  },
  {
   "cell_type": "code",
   "execution_count": 15,
   "metadata": {},
   "outputs": [],
   "source": [
    "%matplotlib inline"
   ]
  },
  {
   "cell_type": "code",
   "execution_count": 2,
   "metadata": {},
   "outputs": [
    {
     "data": {
      "image/png": "[encoded data removed]",
      "text/plain": [
       "<Figure size 432x288 with 1 Axes>"
      ]
     },
     "metadata": {
      "needs_background": "light"
     },
     "output_type": "display_data"
    }
   ],
   "source": [
    "import numpy as np\n",
    "import seaborn as sns\n",
    "\n",
    "def simulate_poisson_mixture(rates, n, seed=None):\n",
    "    np.random.seed(seed)\n",
    "    for _ in range(n):\n",
    "        yield sum(np.random.poisson(lam=rate) for rate in rates)\n",
    "        \n",
    "counts = list(simulate_poisson_mixture(rates=[2, 19], n=1000, seed=42))\n",
    "\n",
    "sns.kdeplot(counts);"
   ]
  },
  {
   "cell_type": "code",
   "execution_count": null,
   "metadata": {},
   "outputs": [],
   "source": [
    "http://citeseerx.ist.psu.edu/viewdoc/download?doi=10.1.1.88.334&rep=rep1&type=pdf"
   ]
  },
  {
   "cell_type": "markdown",
   "metadata": {},
   "source": [
    "## Batch"
   ]
  },
  {
   "cell_type": "code",
   "execution_count": 32,
   "metadata": {},
   "outputs": [
    {
     "data": {
      "text/plain": [
       "array([0., 0., 0., 0.])"
      ]
     },
     "execution_count": 32,
     "metadata": {},
     "output_type": "execute_result"
    }
   ],
   "source": [
    "weights * rates"
   ]
  },
  {
   "cell_type": "markdown",
   "metadata": {},
   "source": [
    "## Titterington\n",
    "\n",
    "Based on [*Recursive Parameter Estimation Using Incomplete Data*](https://apps.dtic.mil/dtic/tr/fulltext/u2/a116190.pdf)."
   ]
  },
  {
   "cell_type": "code",
   "execution_count": 10,
   "metadata": {},
   "outputs": [
    {
     "name": "stdout",
     "output_type": "stream",
     "text": [
      "[1.42748429e-04 9.99857252e-01]\n",
      "[ 6.14762034 20.78160433]\n"
     ]
    }
   ],
   "source": [
    "import numpy as np\n",
    "from scipy import special\n",
    "\n",
    "n = 2\n",
    "\n",
    "weights = np.ones(n) / n\n",
    "rates = np.random.uniform(size=n)\n",
    "\n",
    "for i, count in enumerate(counts):\n",
    "    \n",
    "    gamma = 1 / (i + 1)  # The step size\n",
    "    dnorm = np.log(special.gamma(count + 1))\n",
    "    \n",
    "    # 1: Compute a posteriori probabilities and likelihood\n",
    "    \n",
    "    # Compute all densities\n",
    "    postprob = np.exp(-rates + count * np.log1p(rates) - dnorm)\n",
    "    # Compute unormalized a posteriori probability\n",
    "    postprob *= weights\n",
    "    # Compute log-likelihood (not that this is computed prior to updating the parameters\n",
    "    logl = np.log(postprob.sum())\n",
    "    # Normalization\n",
    "    postprob /= postprob.sum()\n",
    "    \n",
    "    # 2: Update the parameters\n",
    "    \n",
    "    new_weights = gamma * postprob + (1 - gamma) * weights\n",
    "    # For the rates that care of possible negative values\n",
    "    g_tmp = gamma * postprob / weights\n",
    "    rates = g_tmp * count + (1 - g_tmp) * rates\n",
    "    weights = new_weights\n",
    "    \n",
    "print(weights)\n",
    "print(rates)"
   ]
  },
  {
   "cell_type": "markdown",
   "metadata": {},
   "source": [
    "## Neil-Hinton\n",
    "\n",
    "Based on [*A View of the EM Algorithm that Justifies Incremental, Sparse, and other Variants*](http://www.cs.toronto.edu/~fritz/absps/emk.pdf)."
   ]
  },
  {
   "cell_type": "code",
   "execution_count": null,
   "metadata": {},
   "outputs": [],
   "source": [
    "import numpy as np\n",
    "from scipy import special\n",
    "\n",
    "n = 4\n",
    "\n",
    "weights = np.ones(n) / n\n",
    "rates = np.random.uniform(size=n)\n",
    "\n",
    "for count in counts:\n",
    "    \n",
    "    dnorm = np.log(special.gamma(count + 1))\n",
    "    \n",
    "    # Compute all densities\n",
    "    postprob = np.exp(-rates + count * np.log(rates) - dnorm)\n",
    "    # Compute unormalized a posteriori probability\n",
    "    postprob *= weights\n",
    "    # Normalization\n",
    "    postprob /= postprob.sum()\n",
    "    \n",
    "    if nobs >= 5:\n",
    "        \n",
    "\n",
    "for nobs = 1:T\n",
    "  % Replace just one element\n",
    "  postprob(nobs,:) = exp(-rate + count(nobs)*log(rate) - dnorm(nobs));\n",
    "  % Compute unormalized a posteriori probability\n",
    "  postprob(nobs,:) = postprob(nobs,:) .* wght;\n",
    "  % Normalization\n",
    "  postprob(nobs,:) = postprob(nobs,:) / sum(postprob(nobs,:));\n",
    "  if (nobs > Ninhibit)\n",
    "    %%% 2: Reestimating mixture parameters (M) - THIS ONE IS VERY INEFICIENT\n",
    "    % Unormalized weights\n",
    "    wght = sum(postprob(1:nobs,:));\n",
    "    % Intensities\n",
    "    rate = (count(1:nobs).' * postprob(1:nobs,:)) ./ wght;\n",
    "    % Normalize weigths\n",
    "    wght = wght / sum(wght);          \n",
    "  end\n",
    "end      "
   ]
  },
  {
   "cell_type": "code",
   "execution_count": null,
   "metadata": {},
   "outputs": [],
   "source": [
    "function [wght, rate, logl] = pm_nealhint(count, wght, rate, Nit);\n",
    "\n",
    "%pm_em\t  Estimates the parameters of a Poisson mixture using the incremental EM algorithm.\n",
    "%         Use: [wght,rate,logl] = pm_nealhint(count,wght_0,rate_0,Nit,alpha).\n",
    "%\n",
    "% $Id: pm_nealhint.m,v 1.2 2010-07-22 17:45:48 cappe Exp $\n",
    "\n",
    "% Param.\n",
    "Ninhibit = 5;\n",
    "\n",
    "% Check input arguments\n",
    "error(nargchk(4, 4, nargin));\n",
    "% Data length\n",
    "T = length(count);\n",
    "if (any(count < 0) | any(count ~= fix(count)))\n",
    "  error('Data does not contain positive integers.');\n",
    "end\n",
    "count = reshape(count, T, 1);\n",
    "% Number of mixture components\n",
    "N = pm_chk(wght, rate);\n",
    "wght = reshape(wght, 1, N);\n",
    "rate = reshape(rate, 1, N);\n",
    "\n",
    "% Variables\n",
    "logl = zeros(1,Nit);\n",
    "postprob = zeros(T, N);\n",
    "% Compute log(count!), the second solution is usually much faster\n",
    "% except if max(count) is very large\n",
    "cm = max(count);\n",
    "if (cm > 50000)\n",
    "  dnorm = gammaln(count + 1);\n",
    "else\n",
    "  tmp = cumsum([0; log((1:max(count)).')]);\n",
    "  dnorm = tmp(count+1);\n",
    "end\n",
    "\n",
    "% Main loop of the EM algorithm\n",
    "for nit = 1:Nit\n",
    "  if (nit == 1)\n",
    "    for nobs = 1:T\n",
    "      % Replace just one element\n",
    "      postprob(nobs,:) = exp(-rate + count(nobs)*log(rate) - dnorm(nobs));\n",
    "      % Compute unormalized a posteriori probability\n",
    "      postprob(nobs,:) = postprob(nobs,:) .* wght;\n",
    "      % Normalization\n",
    "      postprob(nobs,:) = postprob(nobs,:) / sum(postprob(nobs,:));\n",
    "      if (nobs > Ninhibit)\n",
    "        %%% 2: Reestimating mixture parameters (M) - THIS ONE IS VERY INEFICIENT\n",
    "        % Unormalized weights\n",
    "        wght = sum(postprob(1:nobs,:));\n",
    "        % Intensities\n",
    "        rate = (count(1:nobs).' * postprob(1:nobs,:)) ./ wght;\n",
    "        % Normalize weigths\n",
    "        wght = wght / sum(wght);          \n",
    "      end\n",
    "    end      \n",
    "  else\n",
    "    for nobs = 1:T\n",
    "      % Replace just one element\n",
    "      postprob(nobs,:) = exp(-rate + count(nobs)*log(rate) - dnorm(nobs));\n",
    "      % Compute unormalized a posteriori probability\n",
    "      postprob(nobs,:) = postprob(nobs,:) .* wght;\n",
    "      % Normalization\n",
    "      postprob(nobs,:) = postprob(nobs,:) / sum(postprob(nobs,:));\n",
    "      %%% 2: Reestimating mixture parameters (M) - THIS ONE IS VERY INEFICIENT\n",
    "      % Unormalized weights\n",
    "      wght = sum(postprob);\n",
    "      % Intensities\n",
    "      rate = (count.' * postprob) ./ wght;\n",
    "      % Normalize weigths\n",
    "      wght = wght / sum(wght);\n",
    "    end\n",
    "  end\n",
    "  % Compute all densities - JUST for LL\n",
    "  postprob_logl = exp(-ones(T,1)*rate + count*log(rate) - dnorm*ones(1,N));\n",
    "  % Compute unormalized a posteriori probability\n",
    "  postprob_logl = postprob_logl .* (ones(T,1) * wght);\n",
    "  % Compute loglikelihood\n",
    "  logl(nit) = sum(log(sum(postprob_logl')));\n",
    "  fprintf(1, 'Iteration %d:\\t%.3f\\n', (nit-1), logl(nit));\n",
    "end\n"
   ]
  },
  {
   "cell_type": "markdown",
   "metadata": {},
   "source": [
    "## Cappé Moulines\n",
    "\n",
    "Based on [*Online EM Algorithm for Latent Data Models*](https://hal.archives-ouvertes.fr/hal-00201327/document)."
   ]
  },
  {
   "cell_type": "code",
   "execution_count": null,
   "metadata": {},
   "outputs": [],
   "source": []
  }
 ],
 "metadata": {
  "kernelspec": {
   "display_name": "Python 3",
   "language": "python",
   "name": "python3"
  },
  "language_info": {
   "codemirror_mode": {
    "name": "ipython",
    "version": 3
   },
   "file_extension": ".py",
   "mimetype": "text/x-python",
   "name": "python",
   "nbconvert_exporter": "python",
   "pygments_lexer": "ipython3",
   "version": "3.7.4"
  }
 },
 "nbformat": 4,
 "nbformat_minor": 4
}
