{
 "cells": [
  {
   "cell_type": "code",
   "execution_count": 1,
   "metadata": {},
   "outputs": [],
   "source": [
    "%load_ext autoreload\n",
    "%autoreload 2\n",
    "%matplotlib inline"
   ]
  },
  {
   "cell_type": "code",
   "execution_count": 8,
   "metadata": {},
   "outputs": [
    {
     "data": {
      "text/plain": [
       "F1: 0.799183"
      ]
     },
     "execution_count": 8,
     "metadata": {},
     "output_type": "execute_result"
    }
   ],
   "source": [
    "from creme import metrics\n",
    "from creme import model_selection\n",
    "from creme import linear_model\n",
    "from creme import preprocessing\n",
    "from creme import datasets\n",
    "\n",
    "X_y = datasets.Elec2()\n",
    "\n",
    "model = (\n",
    "    preprocessing.StandardScaler() |\n",
    "    linear_model.LogisticRegression()\n",
    ")\n",
    "\n",
    "metric = metrics.F1()\n",
    "\n",
    "for x, y in X_y:\n",
    "    y_pred = model.predict_one(x)\n",
    "    metric.update(y, y_pred)\n",
    "    model.fit_one(x, y)\n",
    "\n",
    "metric"
   ]
  },
  {
   "cell_type": "code",
   "execution_count": 9,
   "metadata": {},
   "outputs": [
    {
     "data": {
      "text/plain": [
       "F1: 0.147463"
      ]
     },
     "execution_count": 9,
     "metadata": {},
     "output_type": "execute_result"
    }
   ],
   "source": [
    "import collections\n",
    "from creme.utils import math\n",
    "\n",
    "\n",
    "class Pegasos:\n",
    "    \n",
    "    def __init__(self, lambd):\n",
    "        self.lambd = lambd\n",
    "        self.w = collections.defaultdict(float)\n",
    "    \n",
    "    def fit_one(self, x, y):\n",
    "        \n",
    "        y = y or -1\n",
    "        \n",
    "        y_pred = math.dot(x, self.w)\n",
    "        eta = 0.01\n",
    "        \n",
    "        if y * y_pred < 1:\n",
    "            for i, xi in x.items():\n",
    "                self.w[i] -= (1 - eta * self.lambd) * self.w[i] + eta * y * xi\n",
    "        else:\n",
    "            for i, xi in x.items():\n",
    "                self.w[i] -= (1 - eta * self.lambd)\n",
    "                \n",
    "    def predict_one(self, x):\n",
    "        return math.dot(x, self.w) > 0\n",
    "\n",
    "X_y = datasets.Elec2()\n",
    "\n",
    "model = (\n",
    "    preprocessing.StandardScaler() |\n",
    "    Pegasos(0.01)\n",
    ")\n",
    "\n",
    "metric = metrics.F1()\n",
    "\n",
    "for x, y in X_y:\n",
    "    y_pred = model.predict_one(x)\n",
    "    metric.update(y, y_pred)\n",
    "    model.fit_one(x, y)\n",
    "\n",
    "metric    "
   ]
  },
  {
   "cell_type": "code",
   "execution_count": null,
   "metadata": {},
   "outputs": [],
   "source": []
  }
 ],
 "metadata": {
  "kernelspec": {
   "display_name": "Python 3",
   "language": "python",
   "name": "python3"
  },
  "language_info": {
   "codemirror_mode": {
    "name": "ipython",
    "version": 3
   },
   "file_extension": ".py",
   "mimetype": "text/x-python",
   "name": "python",
   "nbconvert_exporter": "python",
   "pygments_lexer": "ipython3",
   "version": "3.7.4"
  }
 },
 "nbformat": 4,
 "nbformat_minor": 2
}
