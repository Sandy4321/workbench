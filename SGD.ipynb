{
 "cells": [
  {
   "cell_type": "code",
   "execution_count": 1,
   "metadata": {},
   "outputs": [],
   "source": [
    "%load_ext autoreload\n",
    "%autoreload 2\n",
    "%matplotlib inline"
   ]
  },
  {
   "cell_type": "code",
   "execution_count": null,
   "metadata": {},
   "outputs": [],
   "source": [
    "from . import base\n",
    "\n",
    "\n",
    "__all__ = ['SGD']\n",
    "\n",
    "\n",
    "class SGD(base.Optimizer):\n",
    "\n",
    "    def __init__(self, lr=0.01):\n",
    "        super().__init__(lr)\n",
    "\n",
    "    def _update_after_pred(self, w, g):\n",
    "\n",
    "        for i, gi in g.items():\n",
    "            w[i] -= self.learning_rate * gi\n",
    "\n",
    "        return w\n"
   ]
  },
  {
   "cell_type": "markdown",
   "metadata": {},
   "source": [
    "# ~~~"
   ]
  },
  {
   "cell_type": "code",
   "execution_count": 2,
   "metadata": {},
   "outputs": [
    {
     "name": "stdout",
     "output_type": "stream",
     "text": [
      "[1,000] ROCAUC: 0.379259 – 0:00:00\n",
      "[2,000] ROCAUC: 0.438689 – 0:00:00\n",
      "[3,000] ROCAUC: 0.458973 – 0:00:00\n",
      "[4,000] ROCAUC: 0.469235 – 0:00:00\n",
      "[5,000] ROCAUC: 0.63835 – 0:00:00\n",
      "[6,000] ROCAUC: 0.643072 – 0:00:00\n",
      "[7,000] ROCAUC: 0.93678 – 0:00:00\n",
      "[8,000] ROCAUC: 0.937184 – 0:00:00\n",
      "[9,000] ROCAUC: 0.952582 – 0:00:00\n",
      "[10,000] ROCAUC: 0.958973 – 0:00:01\n"
     ]
    },
    {
     "data": {
      "text/plain": [
       "ROCAUC: 0.958973"
      ]
     },
     "execution_count": 2,
     "metadata": {},
     "output_type": "execute_result"
    }
   ],
   "source": [
    "from creme import datasets\n",
    "from creme import linear_model\n",
    "from creme import optim\n",
    "from creme import metrics\n",
    "from creme import model_selection\n",
    "from creme import preprocessing\n",
    "\n",
    "\n",
    "X_y = datasets.CreditCard().take(10000)\n",
    "\n",
    "model = (\n",
    "    preprocessing.StandardScaler() |\n",
    "    linear_model.LogisticRegression(\n",
    "        loss=optim.losses.Log(weight_pos=5)\n",
    "    )\n",
    ")\n",
    "\n",
    "metric = metrics.ROCAUC()\n",
    "\n",
    "model_selection.progressive_val_score(\n",
    "    X_y,\n",
    "    model,\n",
    "    metric,\n",
    "    print_every=1000,\n",
    "    show_time=True\n",
    ")"
   ]
  },
  {
   "cell_type": "code",
   "execution_count": 4,
   "metadata": {},
   "outputs": [
    {
     "name": "stdout",
     "output_type": "stream",
     "text": [
      "[1,000] ROCAUC: 0.379259 – 0:00:01\n",
      "[2,000] ROCAUC: 0.438689 – 0:00:02\n",
      "[3,000] ROCAUC: 0.458973 – 0:00:03\n",
      "[4,000] ROCAUC: 0.469235 – 0:00:04\n",
      "[5,000] ROCAUC: 0.63835 – 0:00:05\n",
      "[6,000] ROCAUC: 0.643072 – 0:00:05\n",
      "[7,000] ROCAUC: 0.93678 – 0:00:06\n",
      "[8,000] ROCAUC: 0.937184 – 0:00:07\n",
      "[9,000] ROCAUC: 0.952582 – 0:00:08\n",
      "[10,000] ROCAUC: 0.958973 – 0:00:09\n"
     ]
    },
    {
     "data": {
      "text/plain": [
       "ROCAUC: 0.958973"
      ]
     },
     "execution_count": 4,
     "metadata": {},
     "output_type": "execute_result"
    }
   ],
   "source": [
    "from creme import compat\n",
    "from sklearn import linear_model\n",
    "\n",
    "\n",
    "X_y = datasets.CreditCard().take(10000)\n",
    "\n",
    "model = (\n",
    "    preprocessing.StandardScaler() |\n",
    "    compat.convert_sklearn_to_creme(\n",
    "        linear_model.SGDClassifier(\n",
    "            loss='log',\n",
    "            learning_rate='constant',\n",
    "            eta0=0.01,\n",
    "            penalty='none',\n",
    "            class_weight={\n",
    "                True: 5,\n",
    "                False: 1\n",
    "            }\n",
    "        ),\n",
    "        classes=[0, 1]\n",
    "    )\n",
    ")\n",
    "\n",
    "metric = metrics.ROCAUC()\n",
    "\n",
    "model_selection.progressive_val_score(\n",
    "    X_y,\n",
    "    model,\n",
    "    metric,\n",
    "    print_every=1000,\n",
    "    show_time=True\n",
    ")"
   ]
  },
  {
   "cell_type": "code",
   "execution_count": null,
   "metadata": {},
   "outputs": [],
   "source": []
  }
 ],
 "metadata": {
  "kernelspec": {
   "display_name": "Python 3",
   "language": "python",
   "name": "python3"
  },
  "language_info": {
   "codemirror_mode": {
    "name": "ipython",
    "version": 3
   },
   "file_extension": ".py",
   "mimetype": "text/x-python",
   "name": "python",
   "nbconvert_exporter": "python",
   "pygments_lexer": "ipython3",
   "version": "3.7.4"
  }
 },
 "nbformat": 4,
 "nbformat_minor": 2
}
