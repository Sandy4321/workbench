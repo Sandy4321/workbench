{
 "cells": [
  {
   "cell_type": "code",
   "execution_count": 1,
   "metadata": {},
   "outputs": [],
   "source": [
    "%load_ext autoreload\n",
    "%autoreload 2\n",
    "%matplotlib inline"
   ]
  },
  {
   "cell_type": "code",
   "execution_count": 2,
   "metadata": {},
   "outputs": [
    {
     "data": {
      "text/plain": [
       "MAE: 1.411203"
      ]
     },
     "execution_count": 2,
     "metadata": {},
     "output_type": "execute_result"
    }
   ],
   "source": [
    "from creme import compat\n",
    "from creme import datasets\n",
    "from creme import metrics\n",
    "from creme import model_selection\n",
    "from creme import preprocessing\n",
    "from torch import nn\n",
    "from torch import optim\n",
    "\n",
    "X_y = datasets.TrumpApproval()\n",
    "\n",
    "n_features = 6\n",
    "net = nn.Sequential(\n",
    "    nn.Linear(n_features, 3),\n",
    "    nn.Linear(3, 1),\n",
    ")\n",
    "\n",
    "model = (\n",
    "    preprocessing.StandardScaler() |\n",
    "    compat.PyTorch2CremeRegressor(\n",
    "        net=net,\n",
    "        loss_fn=nn.MSELoss(),\n",
    "        optimizer=optim.SGD(net.parameters(), lr=.001),\n",
    "        batch_size=1\n",
    "    )\n",
    ")\n",
    "metric = metrics.MAE()\n",
    "\n",
    "model_selection.progressive_val_score(X_y, model, metric)"
   ]
  },
  {
   "cell_type": "code",
   "execution_count": 54,
   "metadata": {},
   "outputs": [
    {
     "data": {
      "text/plain": [
       "MAE: 5.76122"
      ]
     },
     "execution_count": 54,
     "metadata": {},
     "output_type": "execute_result"
    }
   ],
   "source": [
    "from creme import base\n",
    "from creme import metrics\n",
    "from creme import preprocessing\n",
    "from vowpalwabbit import pyvw\n",
    "\n",
    "\n",
    "class VW2CremeBase(pyvw.vw):\n",
    "    \n",
    "    def _to_vw(self, x):\n",
    "        return ' '.join(f'{k}:{v}' for k, v in x.items())\n",
    "    \n",
    "    def fit_one(self, x, y):\n",
    "        #print(f'{y} | {self._to_vw(x)}')\n",
    "        ex = self.example(f'{y} | {self._to_vw(x)}')\n",
    "        self.learn(ex)\n",
    "        self.finish_example(ex)\n",
    "        return self\n",
    "    \n",
    "class VW2CremeRegressor(VW2CremeBase, base.Regressor):\n",
    "    \n",
    "    def predict_one(self, x):\n",
    "        ex = self.example(f' | {self._to_vw(x)}')\n",
    "        #ex = self.example(self._to_vw(x))\n",
    "        y_pred = self.predict(ex)\n",
    "        self.finish_example(ex)\n",
    "        return y_pred\n",
    "    \n",
    "X_y = datasets.TrumpApproval()\n",
    "    \n",
    "metric = metrics.MAE()\n",
    "        \n",
    "model = preprocessing.StandardScaler() | VW2CremeRegressor(sgd=True)\n",
    "        \n",
    "for x, y in X_y:\n",
    "    y_pred = model.predict_one(x)\n",
    "    #print(y_pred)\n",
    "    model.fit_one(x, y)\n",
    "    metric.update(y, y_pred)\n",
    "    \n",
    "metric"
   ]
  },
  {
   "cell_type": "raw",
   "metadata": {},
   "source": [
    "ex.get_multiclass_prediction))"
   ]
  },
  {
   "cell_type": "code",
   "execution_count": 4,
   "metadata": {},
   "outputs": [
    {
     "data": {
      "text/plain": [
       "LogLoss: 19.875959"
      ]
     },
     "execution_count": 4,
     "metadata": {},
     "output_type": "execute_result"
    }
   ],
   "source": [
    "class VW2CremeBinaryClassifier(VW2CremeBase, base.BinaryClassifier):\n",
    "    \n",
    "    def __init__(self, **params):\n",
    "        params['binary'] = True\n",
    "        params['link'] = 'logistic'\n",
    "        params['loss_function'] = 'logistic'\n",
    "        super().__init__(**params)\n",
    "        \n",
    "    def fit_one(self, x, y):\n",
    "        y = int(y)\n",
    "        if y == 0:\n",
    "            y = -1\n",
    "        return super().fit_one(x, y)\n",
    "    \n",
    "    def predict_one(self, x):\n",
    "        ex = self.example(self._to_vw(x))\n",
    "        y_pred = self.predict(ex)\n",
    "        self.finish_example(ex)\n",
    "        return y_pred\n",
    "    \n",
    "\n",
    "X_y = datasets.Elec2()\n",
    "    \n",
    "metric = metrics.LogLoss()\n",
    "        \n",
    "model = VW2CremeBinaryClassifier()\n",
    "        \n",
    "for x, y in X_y:\n",
    "    y_pred = model.predict_one(x)\n",
    "    model.fit_one(x, y)\n",
    "    metric.update(y, y_pred)\n",
    "    \n",
    "metric"
   ]
  },
  {
   "cell_type": "code",
   "execution_count": 9,
   "metadata": {},
   "outputs": [
    {
     "ename": "RuntimeError",
     "evalue": "label 0 is not allowed for multiclass.  Valid labels are {1,k}",
     "output_type": "error",
     "traceback": [
      "\u001b[0;31m---------------------------------------------------------------------------\u001b[0m",
      "\u001b[0;31mRuntimeError\u001b[0m                              Traceback (most recent call last)",
      "\u001b[0;32m<ipython-input-9-88cc96e2b37b>\u001b[0m in \u001b[0;36m<module>\u001b[0;34m\u001b[0m\n\u001b[1;32m     32\u001b[0m     \u001b[0my\u001b[0m \u001b[0;34m=\u001b[0m \u001b[0mint\u001b[0m\u001b[0;34m(\u001b[0m\u001b[0my\u001b[0m\u001b[0;34m)\u001b[0m \u001b[0;34m+\u001b[0m \u001b[0;36m1\u001b[0m\u001b[0;34m\u001b[0m\u001b[0;34m\u001b[0m\u001b[0m\n\u001b[1;32m     33\u001b[0m     \u001b[0my_pred\u001b[0m \u001b[0;34m=\u001b[0m \u001b[0mmodel\u001b[0m\u001b[0;34m.\u001b[0m\u001b[0mpredict_one\u001b[0m\u001b[0;34m(\u001b[0m\u001b[0mx\u001b[0m\u001b[0;34m)\u001b[0m\u001b[0;34m\u001b[0m\u001b[0;34m\u001b[0m\u001b[0m\n\u001b[0;32m---> 34\u001b[0;31m     \u001b[0mmodel\u001b[0m\u001b[0;34m.\u001b[0m\u001b[0mfit_one\u001b[0m\u001b[0;34m(\u001b[0m\u001b[0mx\u001b[0m\u001b[0;34m,\u001b[0m \u001b[0my\u001b[0m\u001b[0;34m)\u001b[0m\u001b[0;34m\u001b[0m\u001b[0;34m\u001b[0m\u001b[0m\n\u001b[0m\u001b[1;32m     35\u001b[0m     \u001b[0mmetric\u001b[0m\u001b[0;34m.\u001b[0m\u001b[0mupdate\u001b[0m\u001b[0;34m(\u001b[0m\u001b[0my\u001b[0m\u001b[0;34m,\u001b[0m \u001b[0my_pred\u001b[0m\u001b[0;34m)\u001b[0m\u001b[0;34m\u001b[0m\u001b[0;34m\u001b[0m\u001b[0m\n\u001b[1;32m     36\u001b[0m \u001b[0;34m\u001b[0m\u001b[0m\n",
      "\u001b[0;32m<ipython-input-9-88cc96e2b37b>\u001b[0m in \u001b[0;36mfit_one\u001b[0;34m(self, x, y)\u001b[0m\n\u001b[1;32m     14\u001b[0m             \u001b[0mself\u001b[0m\u001b[0;34m.\u001b[0m\u001b[0mlabels\u001b[0m\u001b[0;34m[\u001b[0m\u001b[0my\u001b[0m\u001b[0;34m]\u001b[0m \u001b[0;34m=\u001b[0m \u001b[0mlen\u001b[0m\u001b[0;34m(\u001b[0m\u001b[0mself\u001b[0m\u001b[0;34m.\u001b[0m\u001b[0mlabels\u001b[0m\u001b[0;34m)\u001b[0m \u001b[0;34m+\u001b[0m \u001b[0;36m1\u001b[0m\u001b[0;34m\u001b[0m\u001b[0;34m\u001b[0m\u001b[0m\n\u001b[1;32m     15\u001b[0m             \u001b[0my\u001b[0m \u001b[0;34m=\u001b[0m \u001b[0mlen\u001b[0m\u001b[0;34m(\u001b[0m\u001b[0mself\u001b[0m\u001b[0;34m.\u001b[0m\u001b[0mlabels\u001b[0m\u001b[0;34m)\u001b[0m\u001b[0;34m\u001b[0m\u001b[0;34m\u001b[0m\u001b[0m\n\u001b[0;32m---> 16\u001b[0;31m         \u001b[0;32mreturn\u001b[0m \u001b[0msuper\u001b[0m\u001b[0;34m(\u001b[0m\u001b[0;34m)\u001b[0m\u001b[0;34m.\u001b[0m\u001b[0mfit_one\u001b[0m\u001b[0;34m(\u001b[0m\u001b[0mx\u001b[0m\u001b[0;34m,\u001b[0m \u001b[0my\u001b[0m\u001b[0;34m)\u001b[0m\u001b[0;34m\u001b[0m\u001b[0;34m\u001b[0m\u001b[0m\n\u001b[0m\u001b[1;32m     17\u001b[0m \u001b[0;34m\u001b[0m\u001b[0m\n\u001b[1;32m     18\u001b[0m     \u001b[0;32mdef\u001b[0m \u001b[0mpredict_one\u001b[0m\u001b[0;34m(\u001b[0m\u001b[0mself\u001b[0m\u001b[0;34m,\u001b[0m \u001b[0mx\u001b[0m\u001b[0;34m)\u001b[0m\u001b[0;34m:\u001b[0m\u001b[0;34m\u001b[0m\u001b[0;34m\u001b[0m\u001b[0m\n",
      "\u001b[0;32m<ipython-input-1-f5f2eea9cc83>\u001b[0m in \u001b[0;36mfit_one\u001b[0;34m(self, x, y)\u001b[0m\n\u001b[1;32m     10\u001b[0m \u001b[0;34m\u001b[0m\u001b[0m\n\u001b[1;32m     11\u001b[0m     \u001b[0;32mdef\u001b[0m \u001b[0mfit_one\u001b[0m\u001b[0;34m(\u001b[0m\u001b[0mself\u001b[0m\u001b[0;34m,\u001b[0m \u001b[0mx\u001b[0m\u001b[0;34m,\u001b[0m \u001b[0my\u001b[0m\u001b[0;34m)\u001b[0m\u001b[0;34m:\u001b[0m\u001b[0;34m\u001b[0m\u001b[0;34m\u001b[0m\u001b[0m\n\u001b[0;32m---> 12\u001b[0;31m         \u001b[0mex\u001b[0m \u001b[0;34m=\u001b[0m \u001b[0mself\u001b[0m\u001b[0;34m.\u001b[0m\u001b[0mexample\u001b[0m\u001b[0;34m(\u001b[0m\u001b[0mself\u001b[0m\u001b[0;34m.\u001b[0m\u001b[0m_to_vw\u001b[0m\u001b[0;34m(\u001b[0m\u001b[0mx\u001b[0m\u001b[0;34m)\u001b[0m\u001b[0;34m)\u001b[0m\u001b[0;34m\u001b[0m\u001b[0;34m\u001b[0m\u001b[0m\n\u001b[0m\u001b[1;32m     13\u001b[0m         \u001b[0mex\u001b[0m\u001b[0;34m.\u001b[0m\u001b[0mset_label_string\u001b[0m\u001b[0;34m(\u001b[0m\u001b[0mstr\u001b[0m\u001b[0;34m(\u001b[0m\u001b[0my\u001b[0m\u001b[0;34m)\u001b[0m\u001b[0;34m)\u001b[0m\u001b[0;34m\u001b[0m\u001b[0;34m\u001b[0m\u001b[0m\n\u001b[1;32m     14\u001b[0m         \u001b[0mself\u001b[0m\u001b[0;34m.\u001b[0m\u001b[0mlearn\u001b[0m\u001b[0;34m(\u001b[0m\u001b[0mex\u001b[0m\u001b[0;34m)\u001b[0m\u001b[0;34m\u001b[0m\u001b[0;34m\u001b[0m\u001b[0m\n",
      "\u001b[0;32m~/anaconda3/lib/python3.7/site-packages/vowpalwabbit/pyvw.py\u001b[0m in \u001b[0;36mexample\u001b[0;34m(self, stringOrDict, labelType)\u001b[0m\n\u001b[1;32m    228\u001b[0m     \u001b[0;32mdef\u001b[0m \u001b[0mexample\u001b[0m\u001b[0;34m(\u001b[0m\u001b[0mself\u001b[0m\u001b[0;34m,\u001b[0m \u001b[0mstringOrDict\u001b[0m\u001b[0;34m=\u001b[0m\u001b[0;32mNone\u001b[0m\u001b[0;34m,\u001b[0m \u001b[0mlabelType\u001b[0m\u001b[0;34m=\u001b[0m\u001b[0mpylibvw\u001b[0m\u001b[0;34m.\u001b[0m\u001b[0mvw\u001b[0m\u001b[0;34m.\u001b[0m\u001b[0mlDefault\u001b[0m\u001b[0;34m)\u001b[0m\u001b[0;34m:\u001b[0m\u001b[0;34m\u001b[0m\u001b[0;34m\u001b[0m\u001b[0m\n\u001b[1;32m    229\u001b[0m         \u001b[0;34m\"\"\"TODO: document\"\"\"\u001b[0m\u001b[0;34m\u001b[0m\u001b[0;34m\u001b[0m\u001b[0m\n\u001b[0;32m--> 230\u001b[0;31m         \u001b[0;32mreturn\u001b[0m \u001b[0mexample\u001b[0m\u001b[0;34m(\u001b[0m\u001b[0mself\u001b[0m\u001b[0;34m,\u001b[0m \u001b[0mstringOrDict\u001b[0m\u001b[0;34m,\u001b[0m \u001b[0mlabelType\u001b[0m\u001b[0;34m)\u001b[0m\u001b[0;34m\u001b[0m\u001b[0;34m\u001b[0m\u001b[0m\n\u001b[0m\u001b[1;32m    231\u001b[0m \u001b[0;34m\u001b[0m\u001b[0m\n\u001b[1;32m    232\u001b[0m     \u001b[0;32mdef\u001b[0m \u001b[0m__del__\u001b[0m\u001b[0;34m(\u001b[0m\u001b[0mself\u001b[0m\u001b[0;34m)\u001b[0m\u001b[0;34m:\u001b[0m\u001b[0;34m\u001b[0m\u001b[0;34m\u001b[0m\u001b[0m\n",
      "\u001b[0;32m~/anaconda3/lib/python3.7/site-packages/vowpalwabbit/pyvw.py\u001b[0m in \u001b[0;36m__init__\u001b[0;34m(self, vw, initStringOrDictOrRawExample, labelType)\u001b[0m\n\u001b[1;32m    584\u001b[0m             \u001b[0mself\u001b[0m\u001b[0;34m.\u001b[0m\u001b[0msetup_done\u001b[0m \u001b[0;34m=\u001b[0m \u001b[0;32mFalse\u001b[0m\u001b[0;34m\u001b[0m\u001b[0;34m\u001b[0m\u001b[0m\n\u001b[1;32m    585\u001b[0m         \u001b[0;32melif\u001b[0m \u001b[0misinstance\u001b[0m\u001b[0;34m(\u001b[0m\u001b[0minitStringOrDictOrRawExample\u001b[0m\u001b[0;34m,\u001b[0m \u001b[0mstr\u001b[0m\u001b[0;34m)\u001b[0m\u001b[0;34m:\u001b[0m\u001b[0;34m\u001b[0m\u001b[0;34m\u001b[0m\u001b[0m\n\u001b[0;32m--> 586\u001b[0;31m             \u001b[0mpylibvw\u001b[0m\u001b[0;34m.\u001b[0m\u001b[0mexample\u001b[0m\u001b[0;34m.\u001b[0m\u001b[0m__init__\u001b[0m\u001b[0;34m(\u001b[0m\u001b[0mself\u001b[0m\u001b[0;34m,\u001b[0m \u001b[0mvw\u001b[0m\u001b[0;34m,\u001b[0m \u001b[0mlabelType\u001b[0m\u001b[0;34m,\u001b[0m \u001b[0minitStringOrDictOrRawExample\u001b[0m\u001b[0;34m)\u001b[0m\u001b[0;34m\u001b[0m\u001b[0;34m\u001b[0m\u001b[0m\n\u001b[0m\u001b[1;32m    587\u001b[0m             \u001b[0mself\u001b[0m\u001b[0;34m.\u001b[0m\u001b[0msetup_done\u001b[0m \u001b[0;34m=\u001b[0m \u001b[0;32mTrue\u001b[0m\u001b[0;34m\u001b[0m\u001b[0;34m\u001b[0m\u001b[0m\n\u001b[1;32m    588\u001b[0m         \u001b[0;32melif\u001b[0m \u001b[0misinstance\u001b[0m\u001b[0;34m(\u001b[0m\u001b[0minitStringOrDictOrRawExample\u001b[0m\u001b[0;34m,\u001b[0m \u001b[0mpylibvw\u001b[0m\u001b[0;34m.\u001b[0m\u001b[0mexample\u001b[0m\u001b[0;34m)\u001b[0m\u001b[0;34m:\u001b[0m\u001b[0;34m\u001b[0m\u001b[0;34m\u001b[0m\u001b[0m\n",
      "\u001b[0;31mRuntimeError\u001b[0m: label 0 is not allowed for multiclass.  Valid labels are {1,k}"
     ]
    }
   ],
   "source": [
    "class VW2CremeMultiClassifier(VW2CremeBase, base.MultiClassifier):\n",
    "    \n",
    "    def __init__(self, **params):\n",
    "        params['oaa'] = 2\n",
    "        params['loss_function'] = 'logistic'\n",
    "        params['probabilities'] = True\n",
    "        super().__init__(**params)\n",
    "        self.labels = {}\n",
    "        \n",
    "    def fit_one(self, x, y):\n",
    "        try:\n",
    "            y = self.labels[y]\n",
    "        except KeyError:\n",
    "            self.labels[y] = len(self.labels) + 1\n",
    "            y = len(self.labels)\n",
    "        return super().fit_one(x, y)\n",
    "    \n",
    "    def predict_one(self, x):\n",
    "        ex = self.example('| ' + self._to_vw(x))\n",
    "        y_pred = self.predict(ex)\n",
    "        self.finish_example(ex)\n",
    "        return y_pred\n",
    "    \n",
    "\n",
    "X_y = datasets.Elec2()\n",
    "    \n",
    "metric = metrics.LogLoss()\n",
    "        \n",
    "model = VW2CremeMultiClassifier()\n",
    "        \n",
    "for x, y in X_y:\n",
    "    y = int(y) + 1\n",
    "    y_pred = model.predict_one(x)\n",
    "    model.fit_one(x, y)\n",
    "    metric.update(y, y_pred)\n",
    "    \n",
    "metric"
   ]
  },
  {
   "cell_type": "code",
   "execution_count": null,
   "metadata": {},
   "outputs": [],
   "source": []
  }
 ],
 "metadata": {
  "kernelspec": {
   "display_name": "Python 3",
   "language": "python",
   "name": "python3"
  },
  "language_info": {
   "codemirror_mode": {
    "name": "ipython",
    "version": 3
   },
   "file_extension": ".py",
   "mimetype": "text/x-python",
   "name": "python",
   "nbconvert_exporter": "python",
   "pygments_lexer": "ipython3",
   "version": "3.7.4"
  }
 },
 "nbformat": 4,
 "nbformat_minor": 2
}
