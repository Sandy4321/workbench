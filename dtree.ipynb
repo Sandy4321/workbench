{
 "cells": [
  {
   "cell_type": "code",
   "execution_count": 1,
   "metadata": {},
   "outputs": [],
   "source": [
    "%load_ext autoreload\n",
    "%autoreload 2\n",
    "%matplotlib inline"
   ]
  },
  {
   "cell_type": "code",
   "execution_count": 33,
   "metadata": {},
   "outputs": [
    {
     "data": {
      "text/plain": [
       "LogLoss: 0.562813"
      ]
     },
     "execution_count": 33,
     "metadata": {},
     "output_type": "execute_result"
    }
   ],
   "source": [
    "from creme import datasets\n",
    "from creme import metrics\n",
    "from creme import model_selection\n",
    "from creme import tree\n",
    "\n",
    "X_y = datasets.Elec2()\n",
    "\n",
    "model = tree.DecisionTreeClassifier(\n",
    "    patience=2000,\n",
    "    confidence=1e-5,\n",
    "    criterion='gini'\n",
    ")\n",
    "\n",
    "metric = metrics.LogLoss()\n",
    "\n",
    "model_selection.progressive_val_score(X_y, model, metric)"
   ]
  },
  {
   "cell_type": "code",
   "execution_count": 30,
   "metadata": {},
   "outputs": [
    {
     "data": {
      "text/plain": [
       "{True: 0.2278395725429478, False: 0.7721604274570522}"
      ]
     },
     "execution_count": 30,
     "metadata": {},
     "output_type": "execute_result"
    }
   ],
   "source": [
    "x, y = next(iter(X_y))\n",
    "model.root.get_leaf(x).predict_naive_bayes(x)"
   ]
  },
  {
   "cell_type": "markdown",
   "metadata": {},
   "source": [
    "## Batch"
   ]
  },
  {
   "cell_type": "code",
   "execution_count": 2,
   "metadata": {},
   "outputs": [
    {
     "data": {
      "text/html": [
       "<div>\n",
       "<style scoped>\n",
       "    .dataframe tbody tr th:only-of-type {\n",
       "        vertical-align: middle;\n",
       "    }\n",
       "\n",
       "    .dataframe tbody tr th {\n",
       "        vertical-align: top;\n",
       "    }\n",
       "\n",
       "    .dataframe thead th {\n",
       "        text-align: right;\n",
       "    }\n",
       "</style>\n",
       "<table border=\"1\" class=\"dataframe\">\n",
       "  <thead>\n",
       "    <tr style=\"text-align: right;\">\n",
       "      <th></th>\n",
       "      <th>date</th>\n",
       "      <th>day</th>\n",
       "      <th>period</th>\n",
       "      <th>nswprice</th>\n",
       "      <th>nswdemand</th>\n",
       "      <th>vicprice</th>\n",
       "      <th>vicdemand</th>\n",
       "      <th>transfer</th>\n",
       "    </tr>\n",
       "  </thead>\n",
       "  <tbody>\n",
       "    <tr>\n",
       "      <td>0</td>\n",
       "      <td>0.0</td>\n",
       "      <td>2</td>\n",
       "      <td>0.000000</td>\n",
       "      <td>0.056443</td>\n",
       "      <td>0.439155</td>\n",
       "      <td>0.003467</td>\n",
       "      <td>0.422915</td>\n",
       "      <td>0.414912</td>\n",
       "    </tr>\n",
       "    <tr>\n",
       "      <td>1</td>\n",
       "      <td>0.0</td>\n",
       "      <td>2</td>\n",
       "      <td>0.021277</td>\n",
       "      <td>0.051699</td>\n",
       "      <td>0.415055</td>\n",
       "      <td>0.003467</td>\n",
       "      <td>0.422915</td>\n",
       "      <td>0.414912</td>\n",
       "    </tr>\n",
       "    <tr>\n",
       "      <td>2</td>\n",
       "      <td>0.0</td>\n",
       "      <td>2</td>\n",
       "      <td>0.042553</td>\n",
       "      <td>0.051489</td>\n",
       "      <td>0.385004</td>\n",
       "      <td>0.003467</td>\n",
       "      <td>0.422915</td>\n",
       "      <td>0.414912</td>\n",
       "    </tr>\n",
       "    <tr>\n",
       "      <td>3</td>\n",
       "      <td>0.0</td>\n",
       "      <td>2</td>\n",
       "      <td>0.063830</td>\n",
       "      <td>0.045485</td>\n",
       "      <td>0.314639</td>\n",
       "      <td>0.003467</td>\n",
       "      <td>0.422915</td>\n",
       "      <td>0.414912</td>\n",
       "    </tr>\n",
       "    <tr>\n",
       "      <td>4</td>\n",
       "      <td>0.0</td>\n",
       "      <td>2</td>\n",
       "      <td>0.085106</td>\n",
       "      <td>0.042482</td>\n",
       "      <td>0.251116</td>\n",
       "      <td>0.003467</td>\n",
       "      <td>0.422915</td>\n",
       "      <td>0.414912</td>\n",
       "    </tr>\n",
       "  </tbody>\n",
       "</table>\n",
       "</div>"
      ],
      "text/plain": [
       "   date  day    period  nswprice  nswdemand  vicprice  vicdemand  transfer\n",
       "0   0.0    2  0.000000  0.056443   0.439155  0.003467   0.422915  0.414912\n",
       "1   0.0    2  0.021277  0.051699   0.415055  0.003467   0.422915  0.414912\n",
       "2   0.0    2  0.042553  0.051489   0.385004  0.003467   0.422915  0.414912\n",
       "3   0.0    2  0.063830  0.045485   0.314639  0.003467   0.422915  0.414912\n",
       "4   0.0    2  0.085106  0.042482   0.251116  0.003467   0.422915  0.414912"
      ]
     },
     "execution_count": 2,
     "metadata": {},
     "output_type": "execute_result"
    }
   ],
   "source": [
    "from creme import datasets\n",
    "from creme import tree\n",
    "import pandas as pd\n",
    "\n",
    "X = []\n",
    "Y = []\n",
    "\n",
    "t = tree.DecisionTreeClassifier()\n",
    "\n",
    "for i, (x, y) in enumerate(datasets.Elec2()):\n",
    "    t.fit_one(x, y)\n",
    "    X.append(list(x.values()))\n",
    "    Y.append(y)\n",
    "    \n",
    "    if i == 1600:\n",
    "        break\n",
    "    \n",
    "X = pd.DataFrame(X, columns=x.keys())\n",
    "Y = pd.Series(Y)\n",
    "\n",
    "X.head()"
   ]
  },
  {
   "cell_type": "markdown",
   "metadata": {},
   "source": [
    "## Bayes rule"
   ]
  },
  {
   "cell_type": "code",
   "execution_count": 3,
   "metadata": {},
   "outputs": [
    {
     "name": "stdout",
     "output_type": "stream",
     "text": [
      "P(y | x < t) = 0.05234\n",
      "P(y | x >= t) = 0.67543\n",
      "\n",
      "P(x < t | y) = 0.06041\n",
      "P(y) = 0.39288\n",
      "P(x < t) = 0.45347\n",
      "\n",
      "P(y | x < t) ~ P(x < t | y) * P(y) / P(x < t) = 0.05234\n",
      "P(y | x >= t) ~ P(x >= t | y) * P(y) / P(x >= t) = 0.67543\n"
     ]
    }
   ],
   "source": [
    "feature = 'nswprice'\n",
    "threshold = 0.051\n",
    "\n",
    "# The truth\n",
    "P_Y_X = Y[X[feature] < threshold].value_counts()\n",
    "print(f'P(y | x < t) = {P_Y_X[True] / (P_Y_X[True] + P_Y_X[False]):.5f}')\n",
    "P_Y_X = Y[X[feature] >= threshold].value_counts()\n",
    "print(f'P(y | x >= t) = {P_Y_X[True] / (P_Y_X[True] + P_Y_X[False]):.5f}')\n",
    "print()\n",
    "\n",
    "# The knowledge\n",
    "P_X_Y = len(X[Y & (X[feature] < threshold)]) / len(X[Y])\n",
    "print(f'P(x < t | y) = {P_X_Y:.5f}')\n",
    "\n",
    "P_Y = Y.mean()\n",
    "print(f'P(y) = {P_Y:.5f}')\n",
    "\n",
    "P_X = (X[feature] < threshold).mean()\n",
    "print(f'P(x < t) = {P_X:.5f}')\n",
    "print()\n",
    "\n",
    "print(f'P(y | x < t) ~ P(x < t | y) * P(y) / P(x < t) = {P_X_Y * P_Y / P_X:.5f}')\n",
    "print(f'P(y | x >= t) ~ P(x >= t | y) * P(y) / P(x >= t) = {(1 - P_X_Y) * P_Y / (1 - P_X):.5f}')"
   ]
  },
  {
   "cell_type": "code",
   "execution_count": 4,
   "metadata": {},
   "outputs": [
    {
     "name": "stdout",
     "output_type": "stream",
     "text": [
      "P(y | x < t) = 0.05234\n",
      "P(y | x >= t) = 0.67543\n",
      "\n",
      "P(x < t | y) = 0.06041\n",
      "P(y) = 0.39288\n",
      "P(x < t) = 0.44810\n",
      "\n",
      "P(y | x < t) ~ P(x < t | y) * P(y) / P(x < t) = 0.05297\n",
      "P(y | x >= t) ~ P(x >= t | y) * P(y) / P(x >= t) = 0.66886\n"
     ]
    }
   ],
   "source": [
    "ss = t.root.split_enums[feature]\n",
    "\n",
    "# The truth\n",
    "P_Y_X = Y[X[feature] < threshold].value_counts()\n",
    "print(f'P(y | x < t) = {P_Y_X[True] / (P_Y_X[True] + P_Y_X[False]):.5f}')\n",
    "P_Y_X = Y[X[feature] >= threshold].value_counts()\n",
    "print(f'P(y | x >= t) = {P_Y_X[True] / (P_Y_X[True] + P_Y_X[False]):.5f}')\n",
    "print()\n",
    "\n",
    "# The knowledge\n",
    "P_X_Y = ss.hists[True].cdf(x=threshold)\n",
    "print(f'P(x < t | y) = {P_X_Y:.5f}')\n",
    "\n",
    "P_Y = t.root.target_dist.pmf(True)\n",
    "print(f'P(y) = {P_Y:.5f}')\n",
    "\n",
    "P_X = t.root.target_dist.pmf(True) * ss.hists[True].cdf(x=threshold) + t.root.target_dist.pmf(False) * ss.hists[False].cdf(x=threshold)\n",
    "print(f'P(x < t) = {P_X:.5f}')\n",
    "print()\n",
    "\n",
    "print(f'P(y | x < t) ~ P(x < t | y) * P(y) / P(x < t) = {P_X_Y * P_Y / P_X:.5f}')\n",
    "print(f'P(y | x >= t) ~ P(x >= t | y) * P(y) / P(x >= t) = {(1 - P_X_Y) * P_Y / (1 - P_X):.5f}')"
   ]
  },
  {
   "cell_type": "code",
   "execution_count": null,
   "metadata": {},
   "outputs": [],
   "source": []
  }
 ],
 "metadata": {
  "kernelspec": {
   "display_name": "Python 3",
   "language": "python",
   "name": "python3"
  },
  "language_info": {
   "codemirror_mode": {
    "name": "ipython",
    "version": 3
   },
   "file_extension": ".py",
   "mimetype": "text/x-python",
   "name": "python",
   "nbconvert_exporter": "python",
   "pygments_lexer": "ipython3",
   "version": "3.7.4"
  }
 },
 "nbformat": 4,
 "nbformat_minor": 2
}
