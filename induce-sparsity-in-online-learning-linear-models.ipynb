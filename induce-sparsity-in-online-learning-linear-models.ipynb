{
 "cells": [
  {
   "cell_type": "markdown",
   "metadata": {},
   "source": [
    "<center>\n",
    "    <h1>Induce Sparsity in Online Learning Linear Models</h1>\n",
    "</center>"
   ]
  },
  {
   "cell_type": "markdown",
   "metadata": {},
   "source": [
    "In this notebook we are going to explore sparse regularization in the specific regime of online learning. As opposed to batch learning, the machine learning model is updated one sample at a time. That specificity involves noisy approximates of the true gradients which easily move away weights from zero.\n",
    "\n",
    "Experiments will consist of testing different methods applied to a linear regression trained with SGD. For $p$ being the number of features, the model equation is defined as:\n",
    "\n",
    "$$\n",
    "\\normalsize\n",
    "\\hat{y}(x) = w_{0} + \\sum_{j=1}^{p} w_{j} x_{j}\n",
    "$$\n",
    "\n",
    "Squared loss will be minimized:\n",
    "\n",
    "$$\n",
    "\\normalsize\n",
    "L(y, \\hat{y}) = \\frac{1}{2}(y - \\hat{y})^2\n",
    "$$"
   ]
  },
  {
   "cell_type": "markdown",
   "metadata": {},
   "source": [
    "Let's create a synthetic dataset of 10,000 samples, 10 informative features, and 90 noisy features."
   ]
  },
  {
   "cell_type": "code",
   "execution_count": 1,
   "metadata": {},
   "outputs": [
    {
     "data": {
      "image/png": "[encoded data removed]",
      "text/plain": [
       "<Figure size 432x288 with 1 Axes>"
      ]
     },
     "metadata": {
      "needs_background": "light"
     },
     "output_type": "display_data"
    }
   ],
   "source": [
    "import matplotlib.pyplot as plt\n",
    "%matplotlib inline\n",
    "\n",
    "from sklearn import datasets\n",
    "\n",
    "X, y = datasets.make_regression(n_samples=10_000, n_features=100, n_informative=10, noise=5, random_state=22)\n",
    "\n",
    "# Transform each sample to a dict\n",
    "X = [dict(enumerate(x)) for x in X]\n",
    "\n",
    "# Init a dict to store trained weights\n",
    "trained_weights = {}\n",
    "\n",
    "# Plot target distribution\n",
    "plt.hist(y, density=True, bins='auto')\n",
    "plt.title('Target distribution')\n",
    "plt.show()"
   ]
  },
  {
   "cell_type": "markdown",
   "metadata": {},
   "source": [
    "Define the training procedure."
   ]
  },
  {
   "cell_type": "code",
   "execution_count": 2,
   "metadata": {},
   "outputs": [],
   "source": [
    "from sklearn.metrics import mean_absolute_error\n",
    "\n",
    "def train(model):\n",
    "    # Training loop\n",
    "    y_pred = []\n",
    "    for x, yi in zip(X, y):\n",
    "        y_pred.append(model.predict_one(x))\n",
    "        _ = model.learn_one(x, yi)\n",
    "\n",
    "    # Display MAE\n",
    "    mae = mean_absolute_error(y, y_pred)\n",
    "    print(f'MAE = {mae:.1f}\\n')\n",
    "    \n",
    "    return model"
   ]
  },
  {
   "cell_type": "markdown",
   "metadata": {},
   "source": [
    "## 1. No regularization"
   ]
  },
  {
   "cell_type": "markdown",
   "metadata": {},
   "source": [
    "Without any regularization, weights update consists of:\n",
    "\n",
    "$$\n",
    "\\normalsize\n",
    "\\begin{align*}\n",
    "    w^{t+1}_j &= w^{t}_j - \\eta \\frac{\\partial L}{\\partial w^{t}_j} \\\\\n",
    "    w^{t+1}_j &= w^{t}_j - \\eta (-x_j(y - \\hat{y}))\n",
    "\\end{align*}\n",
    "$$\n",
    "\n",
    "Where $\\eta$ is the learning rate."
   ]
  },
  {
   "cell_type": "code",
   "execution_count": 3,
   "metadata": {},
   "outputs": [],
   "source": [
    "import collections\n",
    "\n",
    "class LinearRegression:\n",
    "    \n",
    "    def __init__(self, intercept=0, l1_reg=.1, learning_rate=.01):\n",
    "        self.intercept = intercept\n",
    "        self.l1_reg = l1_reg\n",
    "        self.learning_rate = learning_rate\n",
    "        self.weights = collections.defaultdict(float)\n",
    "    \n",
    "    def _update_weights(self, x, loss_gradient):\n",
    "        for j, xj in x.items():\n",
    "            self.weights[j] = self.weights[j] + self.learning_rate * xj * loss_gradient\n",
    "    \n",
    "    def learn_one(self, x, y):\n",
    "        y_hat = self.predict_one(x)\n",
    "        loss_gradient = y - y_hat\n",
    "        \n",
    "        # Update the intercept and the weights\n",
    "        self.intercept = self.intercept + self.learning_rate * loss_gradient\n",
    "        self._update_weights(x, loss_gradient)\n",
    "        \n",
    "        return self\n",
    "    \n",
    "    def predict_one(self, x):\n",
    "        return self.intercept + sum((xj * self.weights[j] for j, xj in x.items()))"
   ]
  },
  {
   "cell_type": "markdown",
   "metadata": {},
   "source": [
    "Train a model without any regularization."
   ]
  },
  {
   "cell_type": "code",
   "execution_count": 4,
   "metadata": {},
   "outputs": [
    {
     "name": "stdout",
     "output_type": "stream",
     "text": [
      "MAE = 8.2\n",
      "\n",
      "CPU times: user 829 ms, sys: 3.89 ms, total: 833 ms\n",
      "Wall time: 832 ms\n"
     ]
    }
   ],
   "source": [
    "%%time\n",
    "\n",
    "model = train(LinearRegression())\n",
    "\n",
    "# Store trained weights\n",
    "trained_weights['No regularization'] = list(model.weights.values())"
   ]
  },
  {
   "cell_type": "markdown",
   "metadata": {},
   "source": [
    "## 2. L1 naive"
   ]
  },
  {
   "cell_type": "markdown",
   "metadata": {},
   "source": [
    "Let's apply a naive L1 penalty as it is common in the batch setting:\n",
    "\n",
    "$$\n",
    "\\normalsize\n",
    "\\begin{align*}\n",
    "    w^{t+1}_j &= w^{t}_j - \\eta \\frac{\\partial}{\\partial w^{t}_j}(L(y, \\hat{y}) + \\lambda ||w||_1) \\\\ \\\\\n",
    "    w^{t+1}_j &=\n",
    "    \\begin{cases}\n",
    "      w^{t}_j - \\eta (-x_j(y - \\hat{y}) + \\lambda), & \\text{if}\\ w_j > 0 \\\\\n",
    "      w^{t}_j - \\eta (-x_j(y - \\hat{y}) - \\lambda), & \\text{if}\\ w_j < 0 \\\\\n",
    "      w^{t}_j - \\eta (-x_j(y - \\hat{y})), & \\text{otherwise}\n",
    "    \\end{cases}\n",
    "\\end{align*}\n",
    "$$\n",
    "\n",
    "Where $\\lambda$ is the amount of L1 regularization applied."
   ]
  },
  {
   "cell_type": "code",
   "execution_count": 5,
   "metadata": {},
   "outputs": [],
   "source": [
    "class L1Naive(LinearRegression):\n",
    "    \n",
    "    def _sign(self, z):\n",
    "        return -1 if z < 0 else (1 if z > 0 else 0)\n",
    "    \n",
    "    def _update_weights(self, x, loss_gradient):\n",
    "        for j, xj in x.items():\n",
    "            wj = self.weights[j]\n",
    "            l1 = self.l1_reg * self._sign(wj)\n",
    "            self.weights[j] = wj + self.learning_rate * (xj * loss_gradient + l1)"
   ]
  },
  {
   "cell_type": "markdown",
   "metadata": {},
   "source": [
    "Train a L1 naive model."
   ]
  },
  {
   "cell_type": "code",
   "execution_count": 6,
   "metadata": {},
   "outputs": [
    {
     "name": "stdout",
     "output_type": "stream",
     "text": [
      "MAE = 8.7\n",
      "\n",
      "CPU times: user 1.53 s, sys: 3.68 ms, total: 1.53 s\n",
      "Wall time: 1.53 s\n"
     ]
    }
   ],
   "source": [
    "%%time\n",
    "\n",
    "model = train(L1Naive())\n",
    "\n",
    "# Store trained weights\n",
    "trained_weights['L1 naive'] = list(model.weights.values())"
   ]
  },
  {
   "cell_type": "markdown",
   "metadata": {},
   "source": [
    "## 3. L1 cumulative penalty"
   ]
  },
  {
   "cell_type": "markdown",
   "metadata": {},
   "source": [
    "Proposed by [(Tsuruoka et al., 2009)](https://www.aclweb.org/anthology/P09-1054.pdf), \"*the main idea is to keep track of the total penalty and the penalty that has been applied to each weight, so that the L1 penalty is applied based on the difference between those cumulative values*\". Let $u_t$ be the absolute value of the total L1 penalty that each weight could have received up to the point:\n",
    "\n",
    "$$\n",
    "\\normalsize\n",
    "u_t = t \\eta \\lambda\n",
    "$$\n",
    "\n",
    "The weight updating method is defined as:\n",
    "\n",
    "$$\n",
    "\\normalsize\n",
    "\\begin{align*}\n",
    "    w^{t + \\frac{1}{2}}_j &= w^{t}_j - \\eta \\frac{\\partial L}{\\partial w_j} \\\\ \\\\\n",
    "    w^{t + 1}_j &=\n",
    "    \\begin{cases}\n",
    "      max(0, w^{t + \\frac{1}{2}}_j - (u_t + q^{t-1}_j)), & \\text{if}\\ w^{t + \\frac{1}{2}}_j > 0 \\\\\n",
    "      min(0, w^{t + \\frac{1}{2}}_j + (u_t - q^{t-1}_j)), & \\text{if}\\ w^{t + \\frac{1}{2}}_j < 0 \\\\\n",
    "      w^{t + \\frac{1}{2}}_j, & \\text{otherwise}\n",
    "    \\end{cases}\n",
    "\\end{align*}\n",
    "$$\n",
    "\n",
    "With $q^{k}_j$ the total L1 penalty that $w_j$ has actually received up to the point:\n",
    "\n",
    "$$\n",
    "\\normalsize\n",
    "q^{k}_j = \\sum_{t=1}^{k} (w^{t+1}_j - w^{t + \\frac{1}{2}}_j)\n",
    "$$\n",
    "\n",
    "\"*In effect, it forces the weight to receive the total L1 penalty that would have been applied if the weight had been updated by the true gradients, assuming that the current weight vector resides in the same orthant as the true weight vector*.\""
   ]
  },
  {
   "cell_type": "code",
   "execution_count": 7,
   "metadata": {},
   "outputs": [],
   "source": [
    "class L1Cumulative(LinearRegression):\n",
    "    \n",
    "    def __init__(self, **kwargs):\n",
    "        super().__init__(**kwargs)\n",
    "        self.max_cum_l1 = 0\n",
    "        self.cum_l1 = collections.defaultdict(float)\n",
    "\n",
    "    def _update_weights(self, x, loss_gradient):\n",
    "        self.max_cum_l1 = self.max_cum_l1 + self.l1_reg * self.learning_rate\n",
    "        \n",
    "        for j, xj in x.items():\n",
    "            wj_temp = self.weights[j] + self.learning_rate * xj * loss_gradient\n",
    "            if wj_temp > 0:\n",
    "                self.weights[j] = max(0, wj_temp - (self.max_cum_l1 + self.cum_l1[j]))\n",
    "            elif wj_temp < 0:\n",
    "                self.weights[j] = min(0, wj_temp + (self.max_cum_l1 - self.cum_l1[j]))\n",
    "            else:\n",
    "                self.weights[j] = wj_temp\n",
    "            \n",
    "            self.cum_l1[j] = self.cum_l1[j] + (self.weights[j] - wj_temp)"
   ]
  },
  {
   "cell_type": "markdown",
   "metadata": {},
   "source": [
    "Train a L1 cumulative model."
   ]
  },
  {
   "cell_type": "code",
   "execution_count": 8,
   "metadata": {},
   "outputs": [
    {
     "name": "stdout",
     "output_type": "stream",
     "text": [
      "MAE = 6.7\n",
      "\n",
      "CPU times: user 2.46 s, sys: 0 ns, total: 2.46 s\n",
      "Wall time: 2.46 s\n"
     ]
    }
   ],
   "source": [
    "%%time\n",
    "\n",
    "model = train(L1Cumulative())\n",
    "\n",
    "# Store trained weights\n",
    "trained_weights['L1 cumulative'] = list(model.weights.values())"
   ]
  },
  {
   "cell_type": "markdown",
   "metadata": {},
   "source": [
    "## 4. Truncated gradient"
   ]
  },
  {
   "cell_type": "markdown",
   "metadata": {},
   "source": [
    "It's a general method proposed by [(Langford et al., 2009)](https://hunch.net/~jl/projects/interactive/sparse_online/paper_sparseonline.pdf):\n",
    "\n",
    "$$\n",
    "\\normalsize\n",
    "\\begin{align*}\n",
    "    w^{t + \\frac{1}{2}}_j &= w^{t}_j - \\eta \\frac{\\partial L}{\\partial w_j} \\\\ \\\\\n",
    "    w^{t + 1}_j &=\n",
    "    \\begin{cases}\n",
    "        max(0, w^{t + \\frac{1}{2}}_j - \\alpha, & \\text{if}\\ w^{t + \\frac{1}{2}}_j \\in [0, \\theta] \\\\\n",
    "        min(0, w^{t + \\frac{1}{2}}_j + \\alpha, & \\text{if}\\ w^{t + \\frac{1}{2}}_j \\in [- \\theta, 0] \\\\\n",
    "        w^{t + \\frac{1}{2}}_j, & \\text{otherwise}\n",
    "    \\end{cases}\n",
    "\\end{align*}\n",
    "$$\n",
    "\n",
    "With $\\theta$ the bound delimiting the magnitude of the coefficients to regularize, and $\\alpha$ the amount of regularization that can be applied at every $K$ step:\n",
    "\n",
    "$$\n",
    "\\normalsize\n",
    "\\alpha =\n",
    "\\begin{cases}\n",
    "    \\eta K \\lambda, & \\text{if}\\ t \\mod K = 0 \\\\\n",
    "    0, & \\text{otherwise}\n",
    "\\end{cases}\n",
    "$$"
   ]
  },
  {
   "cell_type": "code",
   "execution_count": 9,
   "metadata": {},
   "outputs": [],
   "source": [
    "class TruncatedGradient(LinearRegression):\n",
    "    \n",
    "    def __init__(self, bound=3, k=10, **kwargs):\n",
    "        super().__init__(**kwargs)\n",
    "        self.n_iterations = 0\n",
    "        self.bound = abs(bound)\n",
    "        self.k = k\n",
    "\n",
    "    def _update_weights(self, x, loss_gradient):\n",
    "        self.n_iterations = self.n_iterations + 1\n",
    "        \n",
    "        for j, xj in x.items():\n",
    "            wj_temp = self.weights[j] + self.learning_rate * xj * loss_gradient\n",
    "            if wj_temp > 0 and wj_temp < self.bound:\n",
    "                reg = self.learning_rate * self.l1_reg * self.k if self.n_iterations % self.k == 0 else 0\n",
    "                self.weights[j] = max(0, wj_temp - reg)\n",
    "            elif wj_temp < 0 and wj_temp > - self.bound:\n",
    "                reg = self.learning_rate * self.l1_reg * self.k if self.n_iterations % self.k == 0 else 0\n",
    "                self.weights[j] = min(0, wj_temp + reg)\n",
    "            else:\n",
    "                self.weights[j] = wj_temp"
   ]
  },
  {
   "cell_type": "markdown",
   "metadata": {},
   "source": [
    "Train a truncated gradient model."
   ]
  },
  {
   "cell_type": "code",
   "execution_count": 10,
   "metadata": {},
   "outputs": [
    {
     "name": "stdout",
     "output_type": "stream",
     "text": [
      "MAE = 6.8\n",
      "\n",
      "CPU times: user 2.01 s, sys: 0 ns, total: 2.01 s\n",
      "Wall time: 2.01 s\n"
     ]
    }
   ],
   "source": [
    "%%time\n",
    "\n",
    "model = train(TruncatedGradient(l1_reg=5))\n",
    "\n",
    "# Store trained weights\n",
    "trained_weights['Truncated gradient'] = list(model.weights.values())"
   ]
  },
  {
   "cell_type": "markdown",
   "metadata": {},
   "source": [
    "## Results"
   ]
  },
  {
   "cell_type": "code",
   "execution_count": 11,
   "metadata": {},
   "outputs": [
    {
     "data": {
      "image/png": "[encoded data removed]",
      "text/plain": [
       "<Figure size 1152x576 with 4 Axes>"
      ]
     },
     "metadata": {
      "needs_background": "light"
     },
     "output_type": "display_data"
    }
   ],
   "source": [
    "import numpy as np\n",
    "\n",
    "nrows, ncols = 2, 2\n",
    "fig, axes = plt.subplots(nrows, ncols, figsize=(16, 8))\n",
    "axes = axes.ravel()\n",
    "\n",
    "for ix, (method, weights) in enumerate(trained_weights.items()):\n",
    "    zeros = weights.count(0) / len(weights) * 100\n",
    "    axes[ix].hist(weights, density=True, bins=np.arange(-10.5, 95 + 1, 1))\n",
    "    axes[ix].grid(linestyle='-', linewidth=0.5)\n",
    "    axes[ix].set_title(f'{method} ({zeros:.1f}% of zeros)')\n",
    "    axes[ix].set_xlabel(r'$w_j$', fontsize=14)\n",
    "    axes[ix].set_xticks(np.arange(-10, 95 + 10, 10))\n",
    "    axes[ix].set_xlim(-10, 95)\n",
    "    axes[ix].set_ylim(0, 1)\n",
    "\n",
    "fig.tight_layout(h_pad=2, w_pad=5)\n",
    "plt.show()"
   ]
  },
  {
   "cell_type": "markdown",
   "metadata": {},
   "source": [
    "| Method                | Hyper-parmameters                     | # of features | MAE |\n",
    "|:----------------------|:--------------------------------------|--------------:|:---:|\n",
    "| No regularization     |                                       |           100 | 8.2 |\n",
    "| L1 naive              | $\\lambda = 0.1$                       |           100 | 8,7 |\n",
    "| L1 cumulative         | $\\lambda = 0.1$                       |            11 | 6.7 |\n",
    "| Truncated gradient    | $\\lambda = 5$ &nbsp; $K=10$ &nbsp; $\\theta = 3$ |             9 | 6.8 |"
   ]
  }
 ],
 "metadata": {
  "kernelspec": {
   "display_name": "Python 3",
   "language": "python",
   "name": "python3"
  },
  "language_info": {
   "codemirror_mode": {
    "name": "ipython",
    "version": 3
   },
   "file_extension": ".py",
   "mimetype": "text/x-python",
   "name": "python",
   "nbconvert_exporter": "python",
   "pygments_lexer": "ipython3",
   "version": "3.7.4"
  }
 },
 "nbformat": 4,
 "nbformat_minor": 4
}
